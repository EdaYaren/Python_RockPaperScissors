{
  "nbformat": 4,
  "nbformat_minor": 0,
  "metadata": {
    "colab": {
      "provenance": []
    },
    "kernelspec": {
      "name": "python3",
      "display_name": "Python 3"
    },
    "language_info": {
      "name": "python"
    }
  },
  "cells": [
    {
      "cell_type": "markdown",
      "source": [
        "#**TAŞ-KAĞIT-MAKAS OYUNU**"
      ],
      "metadata": {
        "id": "gb2G_Xz21AuM"
      }
    },
    {
      "cell_type": "code",
      "source": [
        "import random"
      ],
      "metadata": {
        "id": "oS71FEZDYIHy"
      },
      "execution_count": 3,
      "outputs": []
    },
    {
      "cell_type": "code",
      "execution_count": 6,
      "metadata": {
        "colab": {
          "base_uri": "https://localhost:8080/"
        },
        "id": "tW4_V96g0W3B",
        "outputId": "2e774786-cb62-410b-84be-00be32b5d20c"
      },
      "outputs": [
        {
          "output_type": "stream",
          "name": "stdout",
          "text": [
            "Lütfen seçiminizi giriniz (TAŞ, KAĞIT, MAKAS):rock\n",
            "Lütfen geçerli bir seçim yapınız.\n",
            "Lütfen seçiminizi giriniz (TAŞ, KAĞIT, MAKAS):1\n",
            "Lütfen geçerli bir seçim yapınız.\n",
            "Lütfen seçiminizi giriniz (TAŞ, KAĞIT, MAKAS):e\n",
            "Lütfen geçerli bir seçim yapınız.\n",
            "Lütfen seçiminizi giriniz (TAŞ, KAĞIT, MAKAS):taş\n",
            "Bilgisayarın seçimi: TAŞ \n",
            "Berabere! Tekrar deneyiniz.\n",
            "Lütfen seçiminizi giriniz (TAŞ, KAĞIT, MAKAS):taş\n",
            "Bilgisayarın seçimi: MAKAS \n",
            "Kazandınız!\n",
            "SKOR TABLOSU\n",
            " Kullanıcı: 1 Bilgisayar: 0\n",
            "Lütfen seçiminizi giriniz (TAŞ, KAĞIT, MAKAS):makas\n",
            "Bilgisayarın seçimi: MAKAS \n",
            "Berabere! Tekrar deneyiniz.\n",
            "Lütfen seçiminizi giriniz (TAŞ, KAĞIT, MAKAS):taş\n",
            "Bilgisayarın seçimi: MAKAS \n",
            "Kazandınız!\n",
            "SKOR TABLOSU\n",
            " Kullanıcı: 2 Bilgisayar: 0\n",
            "Lütfen seçiminizi giriniz (TAŞ, KAĞIT, MAKAS):kağıt\n",
            "Bilgisayarın seçimi: KAĞIT \n",
            "Berabere! Tekrar deneyiniz.\n",
            "Lütfen seçiminizi giriniz (TAŞ, KAĞIT, MAKAS):makas\n",
            "Bilgisayarın seçimi: MAKAS \n",
            "Berabere! Tekrar deneyiniz.\n",
            "Lütfen seçiminizi giriniz (TAŞ, KAĞIT, MAKAS):taş\n",
            "Bilgisayarın seçimi: TAŞ \n",
            "Berabere! Tekrar deneyiniz.\n",
            "Lütfen seçiminizi giriniz (TAŞ, KAĞIT, MAKAS):taş\n",
            "Bilgisayarın seçimi: KAĞIT \n",
            "Kaybettiniz!\n",
            "SKOR TABLOSU\n",
            " Kullanıcı: 2 Bilgisayar: 1\n",
            "Lütfen seçiminizi giriniz (TAŞ, KAĞIT, MAKAS):taş\n",
            "Bilgisayarın seçimi: MAKAS \n",
            "Kazandınız!\n",
            "SKOR TABLOSU\n",
            " Kullanıcı: 3 Bilgisayar: 1\n",
            "Tebrikler kullanıcı oyunu kazandı!\n"
          ]
        }
      ],
      "source": [
        "hand_signals = [\"TAŞ\", \"KAĞIT\", \"MAKAS\"]\n",
        "\n",
        "user_score = 0\n",
        "computer_score = 0\n",
        "\n",
        "def score_table():\n",
        "  print(\"SKOR TABLOSU\\n\", \"Kullanıcı:\", user_score, \"Bilgisayar:\", computer_score)\n",
        "\n",
        "while True:\n",
        "  # Bilgisayardan ve kullanıcıdan her turda bir seçim yapması istenmeli.\n",
        "  computer_selection = random.choice(hand_signals)\n",
        "  user_selection = input(\"Lütfen seçiminizi giriniz (TAŞ, KAĞIT, MAKAS):\").upper()\n",
        "\n",
        "  # Kullanıcının seçimi geçerli bir ifade değilse:\n",
        "  if user_selection not in hand_signals:\n",
        "    print(\"Lütfen geçerli bir seçim yapınız.\")\n",
        "    continue\n",
        "\n",
        "  # Seçimlerin kontrolleri:\n",
        "  # Kullanıcının seçimi ile bilgisayarın seçimi aynı ise:\n",
        "  if computer_selection == user_selection:\n",
        "    print(\"Bilgisayarın seçimi:\", computer_selection, \"\\nBerabere! Tekrar deneyiniz.\")\n",
        "    continue\n",
        "\n",
        "  # Kullanıcının kazanacağı durumlar:\n",
        "  elif (user_selection == \"TAŞ\" and computer_selection == \"MAKAS\") or\\\n",
        "   (user_selection == \"KAĞIT\" and computer_selection == \"TAŞ\") or\\\n",
        "    (user_selection == \"MAKAS\" and computer_selection == \"KAĞIT\"):\n",
        "    print(\"Bilgisayarın seçimi:\", computer_selection, \"\\nKazandınız!\")\n",
        "    user_score += 1\n",
        "\n",
        "  # Bilgisayarın kazanacağı durumlar:\n",
        "  else:\n",
        "    print(\"Bilgisayarın seçimi:\", computer_selection, \"\\nKaybettiniz!\")\n",
        "    computer_score += 1\n",
        "\n",
        "  score_table()\n",
        "\n",
        "  # Kazanan tarafın belirlenmesi:\n",
        "  if user_score == 3:\n",
        "    print(\"Tebrikler kullanıcı oyunu kazandı!\")\n",
        "    break\n",
        "\n",
        "  elif computer_score == 3:\n",
        "    print(\"Maalesef kaybettiniz! Bilgisayar oyunu kazandı.\")\n",
        "    break"
      ]
    }
  ]
}